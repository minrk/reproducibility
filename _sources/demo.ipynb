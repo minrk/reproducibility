{
 "cells": [
  {
   "cell_type": "markdown",
   "id": "f65733d3",
   "metadata": {},
   "source": [
    "# An introduction to the light format\n",
    "\n",
    "Author: Jørgen S. Dokken\n",
    "\n",
    "SPDX-License-Identifier:    MIT"
   ]
  },
  {
   "cell_type": "markdown",
   "id": "8ea1a29a",
   "metadata": {},
   "source": [
    "We start a new cell explicitly by using the \"+\" sign and can explicitly end\n",
    "it by using the \"-\" sign."
   ]
  },
  {
   "cell_type": "markdown",
   "id": "a8854b05",
   "metadata": {},
   "source": [
    "If we do not use explicit indicators for starting or ending a cell, it creates a\n",
    "new cell whenever there is a blank line"
   ]
  },
  {
   "cell_type": "markdown",
   "id": "a4660e7a",
   "metadata": {},
   "source": [
    "This is a new cell"
   ]
  },
  {
   "cell_type": "code",
   "execution_count": null,
   "id": "769533f9",
   "metadata": {},
   "outputs": [],
   "source": [
    "# Comments can be added to code by not adding a new line before the code\n",
    "import mypackage"
   ]
  },
  {
   "cell_type": "markdown",
   "id": "731f9819",
   "metadata": {},
   "source": [
    "Next we define two numbers, `a` and `b`"
   ]
  },
  {
   "cell_type": "code",
   "execution_count": null,
   "id": "507cb069",
   "metadata": {},
   "outputs": [],
   "source": [
    "a = 1\n",
    "b = 3"
   ]
  },
  {
   "cell_type": "markdown",
   "id": "2a668f28",
   "metadata": {},
   "source": [
    "and add them together"
   ]
  },
  {
   "cell_type": "code",
   "execution_count": null,
   "id": "bf39a5dc",
   "metadata": {},
   "outputs": [],
   "source": [
    "c = mypackage.addition(a, b)"
   ]
  },
  {
   "cell_type": "markdown",
   "id": "e30edaa3",
   "metadata": {},
   "source": [
    "We check the result"
   ]
  },
  {
   "cell_type": "code",
   "execution_count": null,
   "id": "efb20be8",
   "metadata": {},
   "outputs": [],
   "source": [
    "assert c == a + b"
   ]
  }
 ],
 "metadata": {
  "jupytext": {
   "cell_metadata_filter": "-all"
  },
  "kernelspec": {
   "display_name": "Python 3 (ipykernel)",
   "language": "python",
   "name": "python3"
  }
 },
 "nbformat": 4,
 "nbformat_minor": 5
}
