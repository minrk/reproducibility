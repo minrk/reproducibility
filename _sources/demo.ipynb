{
 "cells": [
  {
   "cell_type": "markdown",
   "id": "9b9b0fda",
   "metadata": {},
   "source": [
    "# An introduction to the light format\n",
    "Author: Jørgen S. Dokken\n",
    "\n",
    "SPDX-License-Identifier:    MIT"
   ]
  },
  {
   "cell_type": "markdown",
   "id": "0b383a73",
   "metadata": {},
   "source": [
    "We start a new cell explicitly by using the \"+\" sign and can explicitly end\n",
    "it by using the \"-\" sign."
   ]
  },
  {
   "cell_type": "markdown",
   "id": "103cc61c",
   "metadata": {},
   "source": [
    "If we do not use explicit indicators for starting or ending a cell, it creates a\n",
    "new cell whenever there is a blank line"
   ]
  },
  {
   "cell_type": "markdown",
   "id": "6724fb3a",
   "metadata": {},
   "source": [
    "This is a new cell"
   ]
  },
  {
   "cell_type": "code",
   "execution_count": null,
   "id": "6246ce94",
   "metadata": {},
   "outputs": [],
   "source": [
    "# Comments can be added to code by not adding a new line before the code\n",
    "import mypackage"
   ]
  },
  {
   "cell_type": "markdown",
   "id": "f7fea203",
   "metadata": {},
   "source": [
    "Next we define two numbers, `a` and `b`"
   ]
  },
  {
   "cell_type": "code",
   "execution_count": null,
   "id": "20708c25",
   "metadata": {},
   "outputs": [],
   "source": [
    "a = 1\n",
    "b = 3"
   ]
  },
  {
   "cell_type": "markdown",
   "id": "ebfbadd3",
   "metadata": {},
   "source": [
    "and add them together"
   ]
  },
  {
   "cell_type": "code",
   "execution_count": null,
   "id": "5b870c3d",
   "metadata": {},
   "outputs": [],
   "source": [
    "c = mypackage.addition(a, b)"
   ]
  },
  {
   "cell_type": "markdown",
   "id": "92531506",
   "metadata": {},
   "source": [
    "We check the result"
   ]
  },
  {
   "cell_type": "code",
   "execution_count": null,
   "id": "5ca7cc25",
   "metadata": {},
   "outputs": [],
   "source": [
    "assert c == a + b"
   ]
  }
 ],
 "metadata": {
  "jupytext": {
   "cell_metadata_filter": "-all"
  },
  "kernelspec": {
   "display_name": "Python 3 (ipykernel)",
   "language": "python",
   "name": "python3"
  }
 },
 "nbformat": 4,
 "nbformat_minor": 5
}
