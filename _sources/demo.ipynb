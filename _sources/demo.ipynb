{
 "cells": [
  {
   "cell_type": "markdown",
   "id": "ca5d667b",
   "metadata": {},
   "source": [
    "# An introduction to the light format\n",
    "\n",
    "Author: Jørgen S. Dokken\n",
    "\n",
    "SPDX-License-Identifier:    MIT"
   ]
  },
  {
   "cell_type": "markdown",
   "id": "55539b8c",
   "metadata": {},
   "source": [
    "We start a new cell explicitly by using the \"+\" sign and can explicitly end\n",
    "it by using the \"-\" sign."
   ]
  },
  {
   "cell_type": "markdown",
   "id": "5d70877d",
   "metadata": {},
   "source": [
    "If we do not use explicit indicators for starting or ending a cell, it creates a\n",
    "new cell whenever there is a blank line"
   ]
  },
  {
   "cell_type": "markdown",
   "id": "d39bbe41",
   "metadata": {},
   "source": [
    "This is a new cell"
   ]
  },
  {
   "cell_type": "code",
   "execution_count": null,
   "id": "39907287",
   "metadata": {},
   "outputs": [],
   "source": [
    "# Comments can be added to code by not adding a new line before the code\n",
    "import mypackage"
   ]
  },
  {
   "cell_type": "markdown",
   "id": "941a5708",
   "metadata": {},
   "source": [
    "Next we define two numbers, `a` and `b`"
   ]
  },
  {
   "cell_type": "code",
   "execution_count": null,
   "id": "f67d9142",
   "metadata": {},
   "outputs": [],
   "source": [
    "a = 1\n",
    "b = 3"
   ]
  },
  {
   "cell_type": "markdown",
   "id": "828dccd0",
   "metadata": {},
   "source": [
    "and add them together"
   ]
  },
  {
   "cell_type": "code",
   "execution_count": null,
   "id": "ca964b5c",
   "metadata": {},
   "outputs": [],
   "source": [
    "c = mypackage.addition(a, b)"
   ]
  },
  {
   "cell_type": "markdown",
   "id": "bed8a559",
   "metadata": {},
   "source": [
    "We check the result"
   ]
  },
  {
   "cell_type": "code",
   "execution_count": null,
   "id": "14059652",
   "metadata": {},
   "outputs": [],
   "source": [
    "assert c == a + b"
   ]
  }
 ],
 "metadata": {
  "jupytext": {
   "cell_metadata_filter": "-all",
   "main_language": "python",
   "notebook_metadata_filter": "-all"
  }
 },
 "nbformat": 4,
 "nbformat_minor": 5
}
