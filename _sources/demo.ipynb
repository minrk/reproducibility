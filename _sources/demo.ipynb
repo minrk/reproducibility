{
 "cells": [
  {
   "cell_type": "markdown",
   "id": "9caf413e",
   "metadata": {},
   "source": [
    "# An introduction to the light format\n",
    "\n",
    "Author: Jørgen S. Dokken\n",
    "\n",
    "SPDX-License-Identifier:    MIT"
   ]
  },
  {
   "cell_type": "markdown",
   "id": "cadb2f5d",
   "metadata": {},
   "source": [
    "We start a new cell explicitly by using the \"+\" sign and can explicitly end\n",
    "it by using the \"-\" sign."
   ]
  },
  {
   "cell_type": "markdown",
   "id": "f305ce28",
   "metadata": {},
   "source": [
    "If we do not use explicit indicators for starting or ending a cell, it creates a\n",
    "new cell whenever there is a blank line"
   ]
  },
  {
   "cell_type": "markdown",
   "id": "c370c8ee",
   "metadata": {},
   "source": [
    "This is a new cell"
   ]
  },
  {
   "cell_type": "code",
   "execution_count": null,
   "id": "ee6de313",
   "metadata": {},
   "outputs": [],
   "source": [
    "# Comments can be added to code by not adding a new line before the code\n",
    "import mypackage"
   ]
  },
  {
   "cell_type": "markdown",
   "id": "efa7eafe",
   "metadata": {},
   "source": [
    "Next we define two numbers, `a` and `b`"
   ]
  },
  {
   "cell_type": "code",
   "execution_count": null,
   "id": "c4fdace7",
   "metadata": {},
   "outputs": [],
   "source": [
    "a = 1\n",
    "b = 3"
   ]
  },
  {
   "cell_type": "markdown",
   "id": "2e4d9065",
   "metadata": {},
   "source": [
    "and add them together"
   ]
  },
  {
   "cell_type": "code",
   "execution_count": null,
   "id": "890da5f1",
   "metadata": {},
   "outputs": [],
   "source": [
    "c = mypackage.addition(a, b)"
   ]
  },
  {
   "cell_type": "markdown",
   "id": "f4096dac",
   "metadata": {},
   "source": [
    "We check the result"
   ]
  },
  {
   "cell_type": "code",
   "execution_count": null,
   "id": "396cbbad",
   "metadata": {},
   "outputs": [],
   "source": [
    "assert c == a + b"
   ]
  }
 ],
 "metadata": {
  "jupytext": {
   "cell_metadata_filter": "-all",
   "main_language": "python",
   "notebook_metadata_filter": "-all"
  }
 },
 "nbformat": 4,
 "nbformat_minor": 5
}
