{
 "cells": [
  {
   "cell_type": "markdown",
   "id": "79cb8dbd",
   "metadata": {
    "lines_to_next_cell": 0
   },
   "source": [
    "# An introduction to the light format\n",
    "Author: Jørgen S. Dokken\n",
    "\n",
    "SPDX-License-Identifier:    MIT"
   ]
  },
  {
   "cell_type": "markdown",
   "id": "6cd5cd79",
   "metadata": {
    "lines_to_next_cell": 0
   },
   "source": [
    "We start a new cell explicitly by using the \"+\" sign and can explicitly end\n",
    "it by using the \"-\" sign."
   ]
  },
  {
   "cell_type": "code",
   "execution_count": null,
   "id": "9856800f",
   "metadata": {},
   "outputs": [],
   "source": [
    "# If we do not use explicit indicators for starting or ending a cell, it creates a\n",
    "# new cell whenever there is a blank line\n",
    "# This is a new cell\n",
    "# Comments can be added to code by not adding a new line before the code\n",
    "import mypackage"
   ]
  },
  {
   "cell_type": "markdown",
   "id": "dc6094fa",
   "metadata": {},
   "source": [
    "Next we define two numbers, `a` and `b`"
   ]
  },
  {
   "cell_type": "code",
   "execution_count": null,
   "id": "4d5dac60",
   "metadata": {},
   "outputs": [],
   "source": [
    "a = 1\n",
    "b = 3"
   ]
  },
  {
   "cell_type": "markdown",
   "id": "5e09984e",
   "metadata": {},
   "source": [
    "and add them together"
   ]
  },
  {
   "cell_type": "code",
   "execution_count": null,
   "id": "dc660bee",
   "metadata": {},
   "outputs": [],
   "source": [
    "c = mypackage.addition(a, b)"
   ]
  },
  {
   "cell_type": "markdown",
   "id": "008ef1ea",
   "metadata": {},
   "source": [
    "We check the result"
   ]
  },
  {
   "cell_type": "code",
   "execution_count": null,
   "id": "24086632",
   "metadata": {},
   "outputs": [],
   "source": [
    "assert c == a + b"
   ]
  }
 ],
 "metadata": {
  "jupytext": {
   "cell_metadata_filter": "-all"
  },
  "kernelspec": {
   "display_name": "Python 3 (ipykernel)",
   "language": "python",
   "name": "python3"
  }
 },
 "nbformat": 4,
 "nbformat_minor": 5
}
